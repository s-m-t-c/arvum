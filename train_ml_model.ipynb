{
 "cells": [
  {
   "cell_type": "markdown",
   "metadata": {},
   "source": [
    "# ML Training Notebook for Cultivated\n",
    "\n",
    "Notebook to train ML model to discriminate between cultivated and natural vegetation. Text file with extracted data can be downloaded from: Model is trained using data extracted to a CSV file.\n",
    "\n",
    "The version with all pixels can be downloaded from: https://rsg.pml.ac.uk/shared_files/dac/train_input_geomedian_tmad.txt.gz\n",
    "\n",
    "As geomedian and mads are calculated separatly need to combine to a single file using:\n",
    "```python\n",
    "import numpy\n",
    "input_data = numpy.loadtxt(\"geomedian_stats_2015.txt\", skiprows=1)\n",
    "input_data_mads = numpy.loadtxt(\"tmad_stats_2015.txt\", skiprows=1)\n",
    "\n",
    "combined_data = numpy.hstack((input_data, input_data_mads[:,1:]))\n",
    "\n",
    "column_names = 'classnum blue green red nir swir1 swir2 BUI BSI NBI EVI NDWI MSAVI sdev edev bcdev'\n",
    "\n",
    "numpy.savetxt(\"training_data_2015_geomedian_mads_poly_mean\",\n",
    "              combined_data,             \n",
    "              header=column_names, comments='', fmt='%.4f')\n",
    "```\n",
    "\n",
    "A version using the mean value for each feature is in the same repo as this notebook."
   ]
  },
  {
   "cell_type": "code",
   "execution_count": 1,
   "metadata": {},
   "outputs": [],
   "source": [
    "import os\n",
    "import pickle\n",
    "\n",
    "import numpy\n",
    "from sklearn import model_selection\n",
    "from sklearn.ensemble import RandomForestClassifier\n",
    "from sklearn.neural_network import MLPClassifier"
   ]
  },
  {
   "cell_type": "code",
   "execution_count": 2,
   "metadata": {},
   "outputs": [],
   "source": [
    "# Set up working dir\n",
    "working_dir = '/home/jovyan/cultivated_classification'"
   ]
  },
  {
   "cell_type": "code",
   "execution_count": 3,
   "metadata": {},
   "outputs": [
    {
     "name": "stdout",
     "output_type": "stream",
     "text": [
      "Loading pickled model input file\n"
     ]
    }
   ],
   "source": [
    "# Read in text file\n",
    "# As it takes a while first see if there is a pickled version from a previous run\n",
    "pickled_model_input = os.path.join(working_dir, 'training_data_2015_geomedian_mads_poly_mean_numpy.npy')\n",
    "\n",
    "if os.path.isfile(pickled_model_input):\n",
    "    print('Loading pickled model input file')\n",
    "    model_input = numpy.load(pickled_model_input)\n",
    "else:\n",
    "    print('Reading model input from text file...')\n",
    "    model_input = numpy.loadtxt(os.path.join(working_dir, 'training_data_2015_geomedian_mads_poly_mean.txt'), skiprows=1)\n",
    "    numpy.save(pickled_model_input, model_input)\n",
    "    \n",
    "# Headers are\n",
    "# classnum blue green red nir swir1 swir2 BUI BSI NBI EVI NDWI MSAVI sdev edev bcdev\n",
    "column_names = 'classnum blue green red nir swir1 swir2 BUI BSI NBI EVI NDWI MSAVI sdev edev bcdev'.split()\n",
    "\n",
    "column_names_indices = {}\n",
    "\n",
    "for col_num, var_name in enumerate(column_names):\n",
    "    column_names_indices[var_name] = col_num"
   ]
  },
  {
   "cell_type": "code",
   "execution_count": 4,
   "metadata": {},
   "outputs": [],
   "source": [
    "# Split into training and testing data, 50 % is used for training with 50 % held back for testing.\n",
    "# Use class to provide similar distribution across classes\n",
    "# in training and testing data\n",
    "model_train, model_test = model_selection.train_test_split(model_input, stratify=model_input[:,0],\n",
    "                                                           train_size=0.8, random_state=0)"
   ]
  },
  {
   "cell_type": "code",
   "execution_count": 5,
   "metadata": {},
   "outputs": [],
   "source": [
    "# Set up model\n",
    "model = RandomForestClassifier(n_estimators=100, n_jobs=-1, verbose=0, oob_score=True)\n",
    "#model = MLPClassifier(early_stopping=True, max_iter=10, verbose=2)\n",
    "\n",
    "model_variables = ['red', 'nir', 'swir1', 'swir2', 'sdev', 'edev']\n",
    "\n",
    "model_col_indices = []\n",
    "\n",
    "for model_var in model_variables:\n",
    "    model_col_indices.append(column_names_indices[model_var])"
   ]
  },
  {
   "cell_type": "code",
   "execution_count": 6,
   "metadata": {},
   "outputs": [],
   "source": [
    "# Train model\n",
    "classifier = model.fit(model_train[:,model_col_indices], model_train[:,0])"
   ]
  },
  {
   "cell_type": "code",
   "execution_count": 7,
   "metadata": {},
   "outputs": [
    {
     "name": "stdout",
     "output_type": "stream",
     "text": [
      "Accuracy: 0.925\n"
     ]
    }
   ],
   "source": [
    "# Test model using data held back for training\n",
    "score = classifier.score(model_test[:,model_col_indices], model_test[:,0])\n",
    "print(\"Accuracy: {:.03}\".format(score))"
   ]
  },
  {
   "cell_type": "code",
   "execution_count": 8,
   "metadata": {},
   "outputs": [
    {
     "name": "stdout",
     "output_type": "stream",
     "text": [
      "red: 0.2071\n",
      "nir: 0.1541\n",
      "swir1: 0.1153\n",
      "swir2: 0.1325\n",
      "sdev: 0.1206\n",
      "edev: 0.2704\n"
     ]
    }
   ],
   "source": [
    "# Variable importance\n",
    "for var_name, var_importance in zip(model_variables, classifier.feature_importances_):\n",
    "    print(\"{}: {:.04}\".format(var_name, var_importance))"
   ]
  },
  {
   "cell_type": "code",
   "execution_count": 9,
   "metadata": {},
   "outputs": [],
   "source": [
    "ml_model_dict = {}\n",
    "\n",
    "ml_model_dict['variables'] = model_variables\n",
    "ml_model_dict['classes'] = {'Not natural terrestrial vegetation' : 111,\n",
    "                            'Natural terrestrial vegetation ' : 112}\n",
    "ml_model_dict['classifier'] = classifier\n",
    "\n",
    "# Pickle model\n",
    "with open(os.path.join(working_dir, 'model_pickle.pickle'), 'wb') as f:\n",
    "    pickle.dump(ml_model_dict, f)"
   ]
  }
 ],
 "metadata": {
  "kernelspec": {
   "display_name": "Python 3",
   "language": "python",
   "name": "python3"
  },
  "language_info": {
   "codemirror_mode": {
    "name": "ipython",
    "version": 3
   },
   "file_extension": ".py",
   "mimetype": "text/x-python",
   "name": "python",
   "nbconvert_exporter": "python",
   "pygments_lexer": "ipython3",
   "version": "3.6.8"
  }
 },
 "nbformat": 4,
 "nbformat_minor": 4
}
