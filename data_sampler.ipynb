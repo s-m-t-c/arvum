{
 "cells": [
  {
   "cell_type": "code",
   "execution_count": 22,
   "metadata": {},
   "outputs": [],
   "source": [
    "import geopandas as gp\n",
    "import numpy as np\n",
    "import os\n",
    "from sklearn import preprocessing\n",
    "import seaborn as sns\n",
    "import pandas as pd\n",
    "import matplotlib.pyplot as plt"
   ]
  },
  {
   "cell_type": "code",
   "execution_count": 23,
   "metadata": {},
   "outputs": [],
   "source": [
    "working_dir = '/home/jovyan/development/training_data/'\n",
    "filename = os.path.join(working_dir, '2015_merged.shp')"
   ]
  },
  {
   "cell_type": "code",
   "execution_count": 64,
   "metadata": {},
   "outputs": [],
   "source": [
    "data = gp.read_file(filename)"
   ]
  },
  {
   "cell_type": "markdown",
   "metadata": {},
   "source": [
    "```+----------------------------------+------+--------------+\n",
    "| Class name                       | Code | Numeric code |\n",
    "+==================================+======+==============+\n",
    "| Cultivated Terrestrial Vegetated | A11  | 111          |\n",
    "+----------------------------------+------+--------------+\n",
    "| Natural Terrestrial Vegetated    | A12  | 112          |\n",
    "+----------------------------------+------+--------------+\n",
    "| Cultivated Aquatic Vegetated     | A23  | 123          |\n",
    "+----------------------------------+------+--------------+\n",
    "| Natural Aquatic Vegetated        | A24  | 124          |\n",
    "+----------------------------------+------+--------------+\n",
    "| Artificial Surface               | B15  | 215          |\n",
    "+----------------------------------+------+--------------+\n",
    "| Natural Surface                  | B16  | 216          |\n",
    "+----------------------------------+------+--------------+\n",
    "| Artificial Water                 | B27  | 227          |\n",
    "+----------------------------------+------+--------------+\n",
    "| Natural Water                    | B28  | 228          |\n",
    "+----------------------------------+------+--------------+```"
   ]
  },
  {
   "cell_type": "code",
   "execution_count": 65,
   "metadata": {},
   "outputs": [
    {
     "data": {
      "text/plain": [
       "<matplotlib.axes._subplots.AxesSubplot at 0x7f9f158844a8>"
      ]
     },
     "execution_count": 65,
     "metadata": {},
     "output_type": "execute_result"
    },
    {
     "data": {
      "image/png": "[encoded data removed]",
      "text/plain": [
       "<Figure size 432x288 with 1 Axes>"
      ]
     },
     "metadata": {
      "needs_background": "light"
     },
     "output_type": "display_data"
    }
   ],
   "source": [
    "sns.countplot(data['classnum'])"
   ]
  },
  {
   "cell_type": "code",
   "execution_count": 114,
   "metadata": {},
   "outputs": [],
   "source": [
    "data['weight'] = np.where(data['classnum'] == 112, 0.01, 0)\n",
    "data['weight'] = np.where(data['classnum'] == 111, 0.15, data['weight'])\n",
    "data['weight'] = np.where(data['classnum'] == 216, 0.9, data['weight'])\n",
    "data['weight'] = np.where(data['classnum'] == 228, 0.9, data['weight'])\n",
    "data['weight'] = np.where(data['classnum'] == 215, 0.9, data['weight'])"
   ]
  },
  {
   "cell_type": "code",
   "execution_count": 115,
   "metadata": {},
   "outputs": [],
   "source": [
    "sample = data.sample(n=8000, weights = 'weight', random_state = 1234)"
   ]
  },
  {
   "cell_type": "code",
   "execution_count": 116,
   "metadata": {},
   "outputs": [
    {
     "data": {
      "text/plain": [
       "<matplotlib.axes._subplots.AxesSubplot at 0x7f9f1f010e48>"
      ]
     },
     "execution_count": 116,
     "metadata": {},
     "output_type": "execute_result"
    },
    {
     "data": {
      "image/png": "[encoded data removed]",
      "text/plain": [
       "<Figure size 432x288 with 1 Axes>"
      ]
     },
     "metadata": {
      "needs_background": "light"
     },
     "output_type": "display_data"
    }
   ],
   "source": [
    "sns.countplot(sample['classnum'])"
   ]
  },
  {
   "cell_type": "code",
   "execution_count": 117,
   "metadata": {},
   "outputs": [],
   "source": [
    "sample['class'] = sample['classnum']"
   ]
  },
  {
   "cell_type": "code",
   "execution_count": 69,
   "metadata": {
    "jupyter": {
     "source_hidden": true
    }
   },
   "outputs": [],
   "source": [
    "data['class'] = np.where(data['classnum'] == 111, 111, 0)"
   ]
  },
  {
   "cell_type": "code",
   "execution_count": 70,
   "metadata": {
    "collapsed": true,
    "jupyter": {
     "outputs_hidden": true,
     "source_hidden": true
    }
   },
   "outputs": [
    {
     "data": {
      "text/plain": [
       "<matplotlib.axes._subplots.AxesSubplot at 0x7f9f1e9f4d68>"
      ]
     },
     "execution_count": 70,
     "metadata": {},
     "output_type": "execute_result"
    },
    {
     "data": {
      "image/png": "[encoded data removed]",
      "text/plain": [
       "<Figure size 432x288 with 1 Axes>"
      ]
     },
     "metadata": {
      "needs_background": "light"
     },
     "output_type": "display_data"
    }
   ],
   "source": [
    "sns.countplot(data['class'])"
   ]
  },
  {
   "cell_type": "code",
   "execution_count": 94,
   "metadata": {
    "jupyter": {
     "source_hidden": true
    }
   },
   "outputs": [],
   "source": [
    "data['classweight'] = np.where(data['class'] == 111, 0.9, 0.025)"
   ]
  },
  {
   "cell_type": "code",
   "execution_count": 95,
   "metadata": {
    "jupyter": {
     "source_hidden": true
    }
   },
   "outputs": [],
   "source": [
    "sample = data.sample(n=8000, weights = 'classweight', random_state = 1234)"
   ]
  },
  {
   "cell_type": "code",
   "execution_count": 96,
   "metadata": {
    "collapsed": true,
    "jupyter": {
     "outputs_hidden": true,
     "source_hidden": true
    }
   },
   "outputs": [
    {
     "data": {
      "text/plain": [
       "<matplotlib.axes._subplots.AxesSubplot at 0x7f9f154100b8>"
      ]
     },
     "execution_count": 96,
     "metadata": {},
     "output_type": "execute_result"
    },
    {
     "data": {
      "image/png": "[encoded data removed]",
      "text/plain": [
       "<Figure size 432x288 with 1 Axes>"
      ]
     },
     "metadata": {
      "needs_background": "light"
     },
     "output_type": "display_data"
    }
   ],
   "source": [
    "sns.countplot(sample['class'])"
   ]
  },
  {
   "cell_type": "code",
   "execution_count": 119,
   "metadata": {},
   "outputs": [
    {
     "name": "stdout",
     "output_type": "stream",
     "text": [
      "(8000, 2)\n",
      "                                                geometry  class\n",
      "2954   POLYGON ((1636700.000 -3251325.000, 1636650.00...  228.0\n",
      "23381  POLYGON ((-20905.559 -2395718.772, -20812.069 ...  215.0\n",
      "14733  POLYGON ((1577800.000 -2193475.000, 1577750.00...  111.0\n",
      "33320  POLYGON ((845125.000 -2757325.000, 845125.000 ...  216.0\n",
      "32985  POLYGON ((843300.000 -2759800.000, 843250.000 ...  216.0\n"
     ]
    }
   ],
   "source": [
    "out = sample[['geometry', 'class']]\n",
    "print(out.shape)\n",
    "print(out.head())\n",
    "\n",
    "out.to_file(os.path.join(working_dir, '2015_merged_sample.shp'))"
   ]
  },
  {
   "cell_type": "code",
   "execution_count": null,
   "metadata": {},
   "outputs": [],
   "source": []
  }
 ],
 "metadata": {
  "kernelspec": {
   "display_name": "Python 3",
   "language": "python",
   "name": "python3"
  },
  "language_info": {
   "codemirror_mode": {
    "name": "ipython",
    "version": 3
   },
   "file_extension": ".py",
   "mimetype": "text/x-python",
   "name": "python",
   "nbconvert_exporter": "python",
   "pygments_lexer": "ipython3",
   "version": "3.6.9"
  }
 },
 "nbformat": 4,
 "nbformat_minor": 4
}
