{
 "cells": [
  {
   "cell_type": "markdown",
   "metadata": {},
   "source": [
    "# ML Training Notebook for Cultivated\n",
    "\n",
    "Notebook to train ML model to discriminate between cultivated and natural vegetation. Text file with extracted data can be downloaded from: Model is trained using data extracted to a CSV file.\n",
    "\n",
    "The version with all pixels can be downloaded from: https://rsg.pml.ac.uk/shared_files/dac/train_input_geomedian_tmad.txt.gz\n",
    "\n",
    "As geomedian and mads are calculated separatly need to combine to a single file using:\n",
    "```python\n",
    "import numpy\n",
    "input_data = numpy.loadtxt(\"geomedian_stats_2015.txt\", skiprows=1)\n",
    "input_data_mads = numpy.loadtxt(\"tmad_stats_2015.txt\", skiprows=1)\n",
    "\n",
    "combined_data = numpy.hstack((input_data, input_data_mads[:,1:]))\n",
    "\n",
    "column_names = 'classnum blue green red nir swir1 swir2 BUI BSI NBI EVI NDWI MSAVI sdev edev bcdev'\n",
    "\n",
    "numpy.savetxt(\"training_data_2015_geomedian_mads_poly_mean\",\n",
    "              combined_data,             \n",
    "              header=column_names, comments='', fmt='%.4f')\n",
    "```\n",
    "\n",
    "A version using the mean value for each feature is in the same repo as this notebook."
   ]
  },
  {
   "cell_type": "code",
   "execution_count": 1,
   "metadata": {},
   "outputs": [],
   "source": [
    "import os\n",
    "import pickle\n",
    "import numpy\n",
    "from sklearn import model_selection\n",
    "from sklearn.ensemble import RandomForestClassifier"
   ]
  },
  {
   "cell_type": "code",
   "execution_count": 2,
   "metadata": {},
   "outputs": [],
   "source": [
    "# Set up working dir\n",
    "working_dir = '/home/jovyan/cultivated_classification'"
   ]
  },
  {
   "cell_type": "code",
   "execution_count": 3,
   "metadata": {},
   "outputs": [],
   "source": [
    "# Read in text file\n",
    "# As it takes a while first see if there is a pickled version from a previous run\n",
    "# pickled_model_input = os.path.join(working_dir, 'training_data_2015_geomedian_mads_poly_mean_numpy.npy')\n",
    "\n",
    "# if os.path.isfile(pickled_model_input):\n",
    "#     print('Loading pickled model input file')\n",
    "#     model_input = numpy.load(pickled_model_input)\n",
    "# else:\n",
    "#     print('Reading model input from text file...')\n",
    "#     model_input = numpy.loadtxt(os.path.join(working_dir, 'training_data_2015_geomedian_mads_poly_mean.txt'), skiprows=1)\n",
    "#     numpy.save(pickled_model_input, model_input)\n",
    "\n",
    "model_input = numpy.loadtxt(os.path.join(working_dir, 'training_data_2015_geomedian_mads_poly_mean.txt'), skiprows=1)\n",
    "  \n",
    "    \n",
    "# Headers are\n",
    "# classnum blue green red nir swir1 swir2 BUI BSI NBI EVI NDWI MSAVI sdev edev bcdev\n",
    "column_names = 'classnum blue green red nir swir1 swir2 BUI BSI NBI EVI NDWI MSAVI sdev edev bcdev'.split()\n",
    "\n",
    "column_names_indices = {}\n",
    "\n",
    "for col_num, var_name in enumerate(column_names):\n",
    "    column_names_indices[var_name] = col_num"
   ]
  },
  {
   "cell_type": "code",
   "execution_count": 9,
   "metadata": {},
   "outputs": [],
   "source": [
    "from sklearn import preprocessing"
   ]
  },
  {
   "cell_type": "code",
   "execution_count": 18,
   "metadata": {},
   "outputs": [],
   "source": [
    "# Split into training and testing data\n",
    "# Use class to provide similar distribution across classes\n",
    "# in training and testing data\n",
    "model_train, model_test = model_selection.train_test_split(model_input, stratify=model_input[:,0],\n",
    "                                                           train_size=0.8, random_state=0)\n",
    "\n",
    "x_train = preprocessing.scale(model_train[:,model_col_indices])\n",
    "x_test = preprocessing.scale(model_test[:,model_col_indices])\n",
    "\n",
    "y_train = model_train[:,0]\n",
    "y_test = model_test[:,0]"
   ]
  },
  {
   "cell_type": "code",
   "execution_count": 20,
   "metadata": {},
   "outputs": [],
   "source": [
    "model_variables = ['red', 'blue', 'green', 'nir', 'swir1', 'swir2', 'sdev', 'edev']\n",
    "\n",
    "model_col_indices = []\n",
    "\n",
    "for model_var in model_variables:\n",
    "    model_col_indices.append(column_names_indices[model_var])"
   ]
  },
  {
   "cell_type": "code",
   "execution_count": 33,
   "metadata": {},
   "outputs": [
    {
     "name": "stdout",
     "output_type": "stream",
     "text": [
      "==============================\n",
      "KNeighborsClassifier\n",
      "****Results****\n",
      "(array([0.9398374 , 0.93796526, 0.88888889, 0.93636364, 0.96103896]), array([0.9681742 , 0.945     , 0.6       , 0.86554622, 0.97368421]), array([0.95379538, 0.94146949, 0.71641791, 0.89956332, 0.96732026]), array([597, 400,  40, 119,  76]))\n",
      "Log Loss: 0.48727671149157553\n",
      "==============================\n",
      "SVC\n",
      "****Results****\n",
      "(array([0.80774963, 0.78444444, 0.        , 0.9122807 , 0.90740741]), array([0.9078727 , 0.8825    , 0.        , 0.43697479, 0.64473684]), array([0.85488959, 0.83058824, 0.        , 0.59090909, 0.75384615]), array([597, 400,  40, 119,  76]))\n",
      "Log Loss: 0.41558335593361867\n",
      "==============================\n",
      "DecisionTreeClassifier\n",
      "****Results****\n",
      "(array([0.9089404 , 0.89460784, 0.51282051, 0.9009901 , 0.8875    ]), array([0.91959799, 0.9125    , 0.5       , 0.76470588, 0.93421053]), array([0.91423813, 0.90346535, 0.50632911, 0.82727273, 0.91025641]), array([597, 400,  40, 119,  76]))\n",
      "Log Loss: 3.8127220695680677\n",
      "==============================\n",
      "RandomForestClassifier\n",
      "****Results****\n",
      "(array([0.94754098, 0.9408867 , 0.89285714, 0.96296296, 0.95      ]), array([0.9681742 , 0.955     , 0.625     , 0.87394958, 1.        ]), array([0.95774648, 0.94789082, 0.73529412, 0.91629956, 0.97435897]), array([597, 400,  40, 119,  76]))\n",
      "Log Loss: 0.19031621621972084\n",
      "==============================\n",
      "AdaBoostClassifier\n",
      "****Results****\n",
      "(array([0.78194208, 0.70642202, 0.38095238, 0.42519685, 0.90163934]), array([0.76884422, 0.77      , 0.2       , 0.45378151, 0.72368421]), array([0.77533784, 0.73684211, 0.26229508, 0.43902439, 0.80291971]), array([597, 400,  40, 119,  76]))\n",
      "Log Loss: 1.3073738340482424\n",
      "==============================\n",
      "GradientBoostingClassifier\n",
      "****Results****\n",
      "(array([0.9322314 , 0.92156863, 0.77142857, 0.9047619 , 0.92405063]), array([0.94472362, 0.94      , 0.675     , 0.79831933, 0.96052632]), array([0.93843594, 0.93069307, 0.72      , 0.84821429, 0.94193548]), array([597, 400,  40, 119,  76]))\n",
      "Log Loss: 0.22303986624703664\n",
      "==============================\n",
      "GaussianNB\n",
      "****Results****\n",
      "(array([0.87471526, 0.74413646, 0.15189873, 0.56756757, 0.87272727]), array([0.64321608, 0.8725    , 0.6       , 0.52941176, 0.63157895]), array([0.74131274, 0.80322209, 0.24242424, 0.54782609, 0.73282443]), array([597, 400,  40, 119,  76]))\n",
      "Log Loss: 1.474955443717592\n",
      "==============================\n",
      "LinearDiscriminantAnalysis\n",
      "****Results****\n",
      "(array([0.87906137, 0.82272727, 0.20338983, 0.82407407, 0.91549296]), array([0.81574539, 0.905     , 0.3       , 0.74789916, 0.85526316]), array([0.84622068, 0.86190476, 0.24242424, 0.78414097, 0.88435374]), array([597, 400,  40, 119,  76]))\n",
      "Log Loss: 0.6781145834326285\n",
      "==============================\n",
      "QuadraticDiscriminantAnalysis\n",
      "****Results****\n",
      "(array([0.93227092, 0.83448276, 0.375     , 0.76515152, 0.91566265]), array([0.7839196, 0.9075   , 0.75     , 0.8487395, 1.       ]), array([0.85168335, 0.86946108, 0.5       , 0.80478088, 0.95597484]), array([597, 400,  40, 119,  76]))\n",
      "Log Loss: 0.8450637857577631\n",
      "==============================\n"
     ]
    }
   ],
   "source": [
    "import pandas as pd\n",
    "import numpy as np\n",
    "from sklearn.metrics import accuracy_score, log_loss, f1_score, precision_recall_fscore_support\n",
    "from sklearn.neighbors import KNeighborsClassifier\n",
    "from sklearn.svm import SVC, LinearSVC, NuSVC\n",
    "from sklearn.tree import DecisionTreeClassifier\n",
    "from sklearn.ensemble import RandomForestClassifier, AdaBoostClassifier, GradientBoostingClassifier\n",
    "from sklearn.naive_bayes import GaussianNB\n",
    "from sklearn.discriminant_analysis import LinearDiscriminantAnalysis\n",
    "from sklearn.discriminant_analysis import QuadraticDiscriminantAnalysis\n",
    "\n",
    "classifiers = [\n",
    "    KNeighborsClassifier(10),\n",
    "    SVC(kernel=\"rbf\", C=0.025, probability=True),\n",
    "#     NuSVC(probability=True),\n",
    "    DecisionTreeClassifier(),\n",
    "    RandomForestClassifier(bootstrap=True, class_weight=None, criterion='gini',\n",
    "                       max_depth=20, max_features='auto', max_leaf_nodes=None,\n",
    "                       min_impurity_decrease=0.0, min_impurity_split=None,\n",
    "                       min_samples_leaf=1, min_samples_split=3,\n",
    "                       min_weight_fraction_leaf=0.0, n_estimators=300,\n",
    "                       n_jobs=-1, oob_score=True, random_state=None, verbose=0,\n",
    "                       warm_start=False),\n",
    "    AdaBoostClassifier(),\n",
    "    GradientBoostingClassifier(),\n",
    "    GaussianNB(),\n",
    "    LinearDiscriminantAnalysis(),\n",
    "    QuadraticDiscriminantAnalysis()]\n",
    "\n",
    "# Logging for Visual Comparison\n",
    "log_cols=[\"Classifier\", \"Accuracy\", \"Log Loss\"]\n",
    "log = pd.DataFrame(columns=log_cols)\n",
    "\n",
    "for clf in classifiers:\n",
    "    clf.fit(x_train, y_train)\n",
    "    name = clf.__class__.__name__\n",
    "    \n",
    "    print(\"=\"*30)\n",
    "    print(name)\n",
    "    \n",
    "    print('****Results****')\n",
    "    train_predictions = clf.predict(x_test)\n",
    "    acc = precision_recall_fscore_support(y_test, train_predictions)\n",
    "    print(acc[0])\n",
    "    #     print(\"Accuracy: {:.4%}\".format(acc))\n",
    "    \n",
    "    train_predictions = clf.predict_proba(x_test)\n",
    "    ll = log_loss(y_test, train_predictions)\n",
    "    print(\"Log Loss: {}\".format(ll))\n",
    "    \n",
    "    log_entry = pd.DataFrame([[name, acc*100, ll]], columns=log_cols)\n",
    "    log = log.append(log_entry)\n",
    "    \n",
    "print(\"=\"*30)"
   ]
  },
  {
   "cell_type": "code",
   "execution_count": 39,
   "metadata": {},
   "outputs": [
    {
     "data": {
      "text/plain": [
       "(array([0.93227092, 0.83448276, 0.375     , 0.76515152, 0.91566265]),\n",
       " array([0.7839196, 0.9075   , 0.75     , 0.8487395, 1.       ]),\n",
       " array([0.85168335, 0.86946108, 0.5       , 0.80478088, 0.95597484]),\n",
       " array([597, 400,  40, 119,  76]))"
      ]
     },
     "execution_count": 39,
     "metadata": {},
     "output_type": "execute_result"
    }
   ],
   "source": [
    "acc"
   ]
  },
  {
   "cell_type": "code",
   "execution_count": 30,
   "metadata": {},
   "outputs": [
    {
     "data": {
      "image/png": "[encoded data removed]",
      "text/plain": [
       "<Figure size 432x288 with 1 Axes>"
      ]
     },
     "metadata": {
      "needs_background": "light"
     },
     "output_type": "display_data"
    },
    {
     "data": {
      "image/png": "[encoded data removed]",
      "text/plain": [
       "<Figure size 432x288 with 1 Axes>"
      ]
     },
     "metadata": {
      "needs_background": "light"
     },
     "output_type": "display_data"
    }
   ],
   "source": [
    "import seaborn as sns\n",
    "import matplotlib.pyplot as plt\n",
    "%matplotlib inline\n",
    "\n",
    "sns.set_color_codes(\"muted\")\n",
    "sns.barplot(x='Accuracy', y='Classifier', data=log, color=\"b\")\n",
    "\n",
    "plt.xlabel('Accuracy %')\n",
    "plt.title('Classifier Accuracy')\n",
    "plt.show()\n",
    "\n",
    "sns.set_color_codes(\"muted\")\n",
    "sns.barplot(x='Log Loss', y='Classifier', data=log, color=\"g\")\n",
    "\n",
    "plt.xlabel('Log Loss')\n",
    "plt.title('Classifier Log Loss')\n",
    "plt.show()"
   ]
  },
  {
   "cell_type": "markdown",
   "metadata": {},
   "source": [
    "# Old stuff"
   ]
  },
  {
   "cell_type": "code",
   "execution_count": 77,
   "metadata": {},
   "outputs": [],
   "source": [
    "# Set up model\n",
    "\n",
    "# model = RandomForestClassifier(n_estimators=100, n_jobs=-1, verbose=0, oob_score=True)\n",
    "\n",
    "# Hyper parameters chosen by Grid Search CV\n",
    "model = RandomForestClassifier(bootstrap=True, class_weight=None, criterion='gini',\n",
    "                       max_depth=20, max_features='auto', max_leaf_nodes=None,\n",
    "                       min_impurity_decrease=0.0, min_impurity_split=None,\n",
    "                       min_samples_leaf=1, min_samples_split=3,\n",
    "                       min_weight_fraction_leaf=0.0, n_estimators=300,\n",
    "                       n_jobs=-1, oob_score=True, random_state=None, verbose=0,\n",
    "                       warm_start=False)\n",
    "\n",
    "model_variables = ['red', 'blue', 'green', 'nir', 'swir1', 'swir2', 'sdev', 'edev']\n",
    "\n",
    "model_col_indices = []\n",
    "\n",
    "for model_var in model_variables:\n",
    "    model_col_indices.append(column_names_indices[model_var])"
   ]
  },
  {
   "cell_type": "code",
   "execution_count": 78,
   "metadata": {},
   "outputs": [],
   "source": [
    "# Train model\n",
    "model.fit(model_train[:,model_col_indices], model_train[:,0])"
   ]
  },
  {
   "cell_type": "code",
   "execution_count": 79,
   "metadata": {},
   "outputs": [
    {
     "name": "stdout",
     "output_type": "stream",
     "text": [
      "Accuracy: 0.942\n"
     ]
    }
   ],
   "source": [
    "# Test model using data held back for training\n",
    "score = model.score(model_test[:,model_col_indices], model_test[:,0])\n",
    "print(\"Accuracy: {:.03}\".format(score))"
   ]
  },
  {
   "cell_type": "code",
   "execution_count": 80,
   "metadata": {},
   "outputs": [
    {
     "name": "stdout",
     "output_type": "stream",
     "text": [
      "red: 0.1099\n",
      "blue: 0.1094\n",
      "green: 0.1533\n",
      "nir: 0.1146\n",
      "swir1: 0.08998\n",
      "swir2: 0.09796\n",
      "sdev: 0.1091\n",
      "edev: 0.2159\n"
     ]
    }
   ],
   "source": [
    "# Variable importance\n",
    "for var_name, var_importance in zip(model_variables, model.feature_importances_):\n",
    "    print(\"{}: {:.04}\".format(var_name, var_importance))"
   ]
  },
  {
   "cell_type": "code",
   "execution_count": 9,
   "metadata": {},
   "outputs": [],
   "source": [
    "ml_model_dict = {}\n",
    "\n",
    "ml_model_dict['variables'] = model_variables\n",
    "ml_model_dict['classes'] = {'Not natural terrestrial vegetation' : 111,\n",
    "                            'Natural terrestrial vegetation ' : 112}\n",
    "ml_model_dict['classifier'] = model\n",
    "\n",
    "# Pickle model\n",
    "with open(os.path.join(working_dir, 'model_pickle.pickle'), 'wb') as f:\n",
    "    pickle.dump(ml_model_dict, f)"
   ]
  }
 ],
 "metadata": {
  "kernelspec": {
   "display_name": "Python 3",
   "language": "python",
   "name": "python3"
  },
  "language_info": {
   "codemirror_mode": {
    "name": "ipython",
    "version": 3
   },
   "file_extension": ".py",
   "mimetype": "text/x-python",
   "name": "python",
   "nbconvert_exporter": "python",
   "pygments_lexer": "ipython3",
   "version": "3.6.9"
  }
 },
 "nbformat": 4,
 "nbformat_minor": 4
}
